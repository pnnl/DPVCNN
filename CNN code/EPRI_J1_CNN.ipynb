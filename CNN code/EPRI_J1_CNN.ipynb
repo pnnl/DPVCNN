{
 "cells": [
  {
   "cell_type": "code",
   "execution_count": 5,
   "metadata": {},
   "outputs": [],
   "source": [
    "import pandas as pd\n",
    "import numpy as np\n",
    "from sklearn.model_selection import train_test_split\n",
    "import tensorflow as tf\n",
    "from tensorflow import keras\n",
    "import os\n",
    "import random"
   ]
  },
  {
   "cell_type": "code",
   "execution_count": 2,
   "metadata": {},
   "outputs": [
    {
     "ename": "AttributeError",
     "evalue": "module 'tensorflow' has no attribute 'set_random_seed'",
     "output_type": "error",
     "traceback": [
      "\u001b[1;31m---------------------------------------------------------------------------\u001b[0m",
      "\u001b[1;31mAttributeError\u001b[0m                            Traceback (most recent call last)",
      "Cell \u001b[1;32mIn[2], line 14\u001b[0m\n\u001b[0;32m     11\u001b[0m np\u001b[38;5;241m.\u001b[39mrandom\u001b[38;5;241m.\u001b[39mseed(seed_value)\n\u001b[0;32m     13\u001b[0m \u001b[38;5;66;03m# 4. Set `tensorflow` pseudo-random generator at a fixed value\u001b[39;00m\n\u001b[1;32m---> 14\u001b[0m \u001b[43mtf\u001b[49m\u001b[38;5;241;43m.\u001b[39;49m\u001b[43mset_random_seed\u001b[49m(seed_value)\n",
      "\u001b[1;31mAttributeError\u001b[0m: module 'tensorflow' has no attribute 'set_random_seed'"
     ]
    }
   ],
   "source": [
    "# # Seed value (can actually be different for each attribution step)\n",
    "# seed_value= 12\n",
    "\n",
    "# # 1. Set `PYTHONHASHSEED` environment variable at a fixed value\n",
    "# os.environ['PYTHONHASHSEED']=str(seed_value)\n",
    "\n",
    "# # 2. Set `python` built-in pseudo-random generator at a fixed value\n",
    "# random.seed(seed_value)\n",
    "\n",
    "# # 3. Set `numpy` pseudo-random generator at a fixed value\n",
    "# np.random.seed(seed_value)\n",
    "\n",
    "# # 4. Set `tensorflow` pseudo-random generator at a fixed value\n",
    "# tf.set_random_seed(seed_value)\n",
    "\n",
    "# # 5. Configure a new global `tensorflow` session\n",
    "# # from keras import backend as K\n",
    "# # session_conf = tf.ConfigProto(intra_op_parallelism_threads=1, inter_op_parallelism_threads=1)\n",
    "# # sess = tf.Session(graph=tf.get_default_graph(), config=session_conf)\n",
    "# # K.set_session(sess)"
   ]
  },
  {
   "cell_type": "code",
   "execution_count": 2,
   "metadata": {},
   "outputs": [],
   "source": [
    "dataXY = np.load('data.npz')\n",
    "data = dataXY['data']\n",
    "label = dataXY['label']\n",
    "dataXY.close()"
   ]
  },
  {
   "cell_type": "code",
   "execution_count": 3,
   "metadata": {},
   "outputs": [],
   "source": [
    "from sklearn.preprocessing import LabelEncoder\n",
    "from tensorflow.keras.utils import to_categorical\n",
    "label_encoder = LabelEncoder()\n",
    "label_vec = label_encoder.fit_transform(label)\n",
    "ylabel = to_categorical(label_vec)"
   ]
  },
  {
   "cell_type": "code",
   "execution_count": 4,
   "metadata": {},
   "outputs": [
    {
     "data": {
      "text/plain": [
       "array(['Z19', 'Z22', 'Z46', 'Z50', 'Z61', 'Zadj', 'Znf'], dtype='<U4')"
      ]
     },
     "execution_count": 4,
     "metadata": {},
     "output_type": "execute_result"
    }
   ],
   "source": [
    "label_encoder.classes_"
   ]
  },
  {
   "cell_type": "code",
   "execution_count": 5,
   "metadata": {},
   "outputs": [
    {
     "name": "stdout",
     "output_type": "stream",
     "text": [
      "Z19\n",
      "[1. 0. 0. 0. 0. 0. 0.]\n"
     ]
    }
   ],
   "source": [
    "print (label[1023])\n",
    "print (ylabel[1023])"
   ]
  },
  {
   "cell_type": "code",
   "execution_count": 6,
   "metadata": {},
   "outputs": [],
   "source": [
    "x_train, x_test, y_train, y_test = train_test_split(data,ylabel, shuffle=True, test_size=0.2)"
   ]
  },
  {
   "cell_type": "code",
   "execution_count": 7,
   "metadata": {},
   "outputs": [
    {
     "name": "stdout",
     "output_type": "stream",
     "text": [
      "Shape of x_train: (5600, 4001, 6)\n",
      "Shape of y_train: (5600, 7)\n"
     ]
    }
   ],
   "source": [
    "print('Shape of x_train:', x_train.shape)\n",
    "print('Shape of y_train:', y_train.shape)"
   ]
  },
  {
   "cell_type": "code",
   "execution_count": 8,
   "metadata": {},
   "outputs": [
    {
     "name": "stdout",
     "output_type": "stream",
     "text": [
      "Shape of x_test: (1400, 4001, 6)\n",
      "Shape of y_test: (1400, 7)\n"
     ]
    }
   ],
   "source": [
    "print('Shape of x_test:', x_test.shape)\n",
    "print('Shape of y_test:', y_test.shape)"
   ]
  },
  {
   "cell_type": "code",
   "execution_count": 21,
   "metadata": {},
   "outputs": [],
   "source": [
    "np.savez('data_train.npz', data = x_train, label = y_train)"
   ]
  },
  {
   "cell_type": "code",
   "execution_count": 22,
   "metadata": {},
   "outputs": [],
   "source": [
    "np.savez('data_test.npz', data = x_test, label = y_test)"
   ]
  },
  {
   "cell_type": "code",
   "execution_count": 9,
   "metadata": {
    "scrolled": true
   },
   "outputs": [],
   "source": [
    "model = keras.models.Sequential([\n",
    "    keras.layers.Conv1D(32, 3, activation='relu', padding='same', input_shape=[4001,6]),\n",
    "    keras.layers.MaxPool1D(2),\n",
    "    keras.layers.Conv1D(64, 3, activation='relu', padding='same'),\n",
    "    keras.layers.Conv1D(64, 3, activation='relu', padding='same'),\n",
    "    keras.layers.MaxPool1D(2),\n",
    "    keras.layers.Conv1D(128, 3, activation='relu', padding='same'),\n",
    "    keras.layers.Conv1D(128, 3, activation='relu', padding='same'),\n",
    "    keras.layers.MaxPool1D(2),\n",
    "    keras.layers.Conv1D(256, 3, activation='relu', padding='same'),\n",
    "    keras.layers.Conv1D(256, 3, activation='relu', padding='same'),\n",
    "    keras.layers.MaxPool1D(2),\n",
    "#     keras.layers.Conv1D(512, 3, activation='relu', padding='same'),\n",
    "#     keras.layers.Conv1D(512, 3, activation='relu', padding='same'),\n",
    "#     keras.layers.MaxPool1D(2),\n",
    "    keras.layers.Flatten(),\n",
    "    keras.layers.Dense(256,activation='relu'),\n",
    "    keras.layers.Dropout(0.35),\n",
    "    keras.layers.Dense(64,activation='relu'),\n",
    "    keras.layers.Dropout(0.35),\n",
    "    keras.layers.Dense(7,activation='softmax')\n",
    "])"
   ]
  },
  {
   "cell_type": "code",
   "execution_count": 10,
   "metadata": {},
   "outputs": [
    {
     "name": "stdout",
     "output_type": "stream",
     "text": [
      "Model: \"sequential\"\n",
      "_________________________________________________________________\n",
      " Layer (type)                Output Shape              Param #   \n",
      "=================================================================\n",
      " conv1d (Conv1D)             (None, 4001, 32)          608       \n",
      "                                                                 \n",
      " max_pooling1d (MaxPooling1D  (None, 2000, 32)         0         \n",
      " )                                                               \n",
      "                                                                 \n",
      " conv1d_1 (Conv1D)           (None, 2000, 64)          6208      \n",
      "                                                                 \n",
      " conv1d_2 (Conv1D)           (None, 2000, 64)          12352     \n",
      "                                                                 \n",
      " max_pooling1d_1 (MaxPooling  (None, 1000, 64)         0         \n",
      " 1D)                                                             \n",
      "                                                                 \n",
      " conv1d_3 (Conv1D)           (None, 1000, 128)         24704     \n",
      "                                                                 \n",
      " conv1d_4 (Conv1D)           (None, 1000, 128)         49280     \n",
      "                                                                 \n",
      " max_pooling1d_2 (MaxPooling  (None, 500, 128)         0         \n",
      " 1D)                                                             \n",
      "                                                                 \n",
      " conv1d_5 (Conv1D)           (None, 500, 256)          98560     \n",
      "                                                                 \n",
      " conv1d_6 (Conv1D)           (None, 500, 256)          196864    \n",
      "                                                                 \n",
      " max_pooling1d_3 (MaxPooling  (None, 250, 256)         0         \n",
      " 1D)                                                             \n",
      "                                                                 \n",
      " flatten (Flatten)           (None, 64000)             0         \n",
      "                                                                 \n",
      " dense (Dense)               (None, 256)               16384256  \n",
      "                                                                 \n",
      " dropout (Dropout)           (None, 256)               0         \n",
      "                                                                 \n",
      " dense_1 (Dense)             (None, 64)                16448     \n",
      "                                                                 \n",
      " dropout_1 (Dropout)         (None, 64)                0         \n",
      "                                                                 \n",
      " dense_2 (Dense)             (None, 7)                 455       \n",
      "                                                                 \n",
      "=================================================================\n",
      "Total params: 16,789,735\n",
      "Trainable params: 16,789,735\n",
      "Non-trainable params: 0\n",
      "_________________________________________________________________\n"
     ]
    }
   ],
   "source": [
    "model.summary()"
   ]
  },
  {
   "cell_type": "code",
   "execution_count": 11,
   "metadata": {},
   "outputs": [],
   "source": [
    "model.compile(loss='categorical_crossentropy',\n",
    "             optimizer='adam',\n",
    "             metrics=['accuracy'])"
   ]
  },
  {
   "cell_type": "code",
   "execution_count": 12,
   "metadata": {},
   "outputs": [
    {
     "name": "stdout",
     "output_type": "stream",
     "text": [
      "Epoch 1/20\n",
      "70/70 [==============================] - 49s 686ms/step - loss: 78.0426 - accuracy: 0.3708 - val_loss: 1.2141 - val_accuracy: 0.6402\n",
      "Epoch 2/20\n",
      "70/70 [==============================] - 49s 708ms/step - loss: 1.1020 - accuracy: 0.5842 - val_loss: 0.7634 - val_accuracy: 0.6920\n",
      "Epoch 3/20\n",
      "70/70 [==============================] - 50s 715ms/step - loss: 0.7340 - accuracy: 0.7167 - val_loss: 0.4483 - val_accuracy: 0.8205\n",
      "Epoch 4/20\n",
      "70/70 [==============================] - 53s 756ms/step - loss: 0.8053 - accuracy: 0.6875 - val_loss: 0.6552 - val_accuracy: 0.7116\n",
      "Epoch 5/20\n",
      "70/70 [==============================] - 53s 760ms/step - loss: 0.6361 - accuracy: 0.7504 - val_loss: 0.3879 - val_accuracy: 0.8616\n",
      "Epoch 6/20\n",
      "70/70 [==============================] - 51s 730ms/step - loss: 0.4684 - accuracy: 0.8246 - val_loss: 0.3377 - val_accuracy: 0.8652\n",
      "Epoch 7/20\n",
      "70/70 [==============================] - 51s 727ms/step - loss: 0.4129 - accuracy: 0.8451 - val_loss: 0.3399 - val_accuracy: 0.8705\n",
      "Epoch 8/20\n",
      "70/70 [==============================] - 54s 779ms/step - loss: 0.5184 - accuracy: 0.8150 - val_loss: 0.3644 - val_accuracy: 0.8652\n",
      "Epoch 9/20\n",
      "70/70 [==============================] - 51s 731ms/step - loss: 0.3905 - accuracy: 0.8511 - val_loss: 0.2487 - val_accuracy: 0.9196\n",
      "Epoch 10/20\n",
      "70/70 [==============================] - 51s 723ms/step - loss: 0.3194 - accuracy: 0.8810 - val_loss: 0.2558 - val_accuracy: 0.8857\n",
      "Epoch 11/20\n",
      "70/70 [==============================] - 52s 738ms/step - loss: 0.3085 - accuracy: 0.8879 - val_loss: 0.1888 - val_accuracy: 0.9563\n",
      "Epoch 12/20\n",
      "70/70 [==============================] - 51s 732ms/step - loss: 0.2952 - accuracy: 0.8955 - val_loss: 0.3448 - val_accuracy: 0.8241\n",
      "Epoch 13/20\n",
      "70/70 [==============================] - 54s 769ms/step - loss: 0.2367 - accuracy: 0.9156 - val_loss: 0.1747 - val_accuracy: 0.9375\n",
      "Epoch 14/20\n",
      "70/70 [==============================] - 56s 795ms/step - loss: 0.1632 - accuracy: 0.9402 - val_loss: 0.2082 - val_accuracy: 0.9295\n",
      "Epoch 15/20\n",
      "70/70 [==============================] - 53s 757ms/step - loss: 0.2301 - accuracy: 0.9190 - val_loss: 0.1608 - val_accuracy: 0.9375\n",
      "Epoch 16/20\n",
      "70/70 [==============================] - 55s 785ms/step - loss: 0.1662 - accuracy: 0.9388 - val_loss: 0.0994 - val_accuracy: 0.9795\n",
      "Epoch 17/20\n",
      "70/70 [==============================] - 57s 811ms/step - loss: 0.1933 - accuracy: 0.9263 - val_loss: 0.1348 - val_accuracy: 0.9518\n",
      "Epoch 18/20\n",
      "70/70 [==============================] - 57s 815ms/step - loss: 0.2341 - accuracy: 0.9196 - val_loss: 0.1864 - val_accuracy: 0.9107\n",
      "Epoch 19/20\n",
      "70/70 [==============================] - 56s 805ms/step - loss: 0.1964 - accuracy: 0.9205 - val_loss: 0.1451 - val_accuracy: 0.9286\n",
      "Epoch 20/20\n",
      "70/70 [==============================] - 55s 791ms/step - loss: 0.2042 - accuracy: 0.9277 - val_loss: 0.0828 - val_accuracy: 0.9696\n"
     ]
    }
   ],
   "source": [
    "history = model.fit(x_train, y_train, batch_size=64, epochs=20,verbose=1, validation_split=0.2) "
   ]
  },
  {
   "cell_type": "code",
   "execution_count": 1,
   "metadata": {},
   "outputs": [
    {
     "ename": "NameError",
     "evalue": "name 'model' is not defined",
     "output_type": "error",
     "traceback": [
      "\u001b[1;31m---------------------------------------------------------------------------\u001b[0m",
      "\u001b[1;31mNameError\u001b[0m                                 Traceback (most recent call last)",
      "Cell \u001b[1;32mIn[1], line 1\u001b[0m\n\u001b[1;32m----> 1\u001b[0m \u001b[43mmodel\u001b[49m\u001b[38;5;241m.\u001b[39msave(\u001b[38;5;124m'\u001b[39m\u001b[38;5;124mzone_CNN-j1-trial.h5\u001b[39m\u001b[38;5;124m'\u001b[39m)\n",
      "\u001b[1;31mNameError\u001b[0m: name 'model' is not defined"
     ]
    }
   ],
   "source": [
    "model.save('zone_CNN-j1-trial.h5')"
   ]
  },
  {
   "cell_type": "code",
   "execution_count": 2,
   "metadata": {},
   "outputs": [
    {
     "ename": "NameError",
     "evalue": "name 'history' is not defined",
     "output_type": "error",
     "traceback": [
      "\u001b[1;31m---------------------------------------------------------------------------\u001b[0m",
      "\u001b[1;31mNameError\u001b[0m                                 Traceback (most recent call last)",
      "Cell \u001b[1;32mIn[2], line 2\u001b[0m\n\u001b[0;32m      1\u001b[0m \u001b[38;5;28;01mimport\u001b[39;00m \u001b[38;5;21;01mmatplotlib\u001b[39;00m\u001b[38;5;21;01m.\u001b[39;00m\u001b[38;5;21;01mpyplot\u001b[39;00m \u001b[38;5;28;01mas\u001b[39;00m \u001b[38;5;21;01mplt\u001b[39;00m\n\u001b[1;32m----> 2\u001b[0m acc \u001b[38;5;241m=\u001b[39m \u001b[43mhistory\u001b[49m\u001b[38;5;241m.\u001b[39mhistory[\u001b[38;5;124m'\u001b[39m\u001b[38;5;124maccuracy\u001b[39m\u001b[38;5;124m'\u001b[39m]\n\u001b[0;32m      3\u001b[0m val_acc \u001b[38;5;241m=\u001b[39m history\u001b[38;5;241m.\u001b[39mhistory[\u001b[38;5;124m'\u001b[39m\u001b[38;5;124mval_accuracy\u001b[39m\u001b[38;5;124m'\u001b[39m]\n\u001b[0;32m      4\u001b[0m loss \u001b[38;5;241m=\u001b[39m history\u001b[38;5;241m.\u001b[39mhistory[\u001b[38;5;124m'\u001b[39m\u001b[38;5;124mloss\u001b[39m\u001b[38;5;124m'\u001b[39m]\n",
      "\u001b[1;31mNameError\u001b[0m: name 'history' is not defined"
     ]
    }
   ],
   "source": [
    "import matplotlib.pyplot as plt\n",
    "acc = history.history['accuracy']\n",
    "val_acc = history.history['val_accuracy']\n",
    "loss = history.history['loss']\n",
    "val_loss = history.history['val_loss']\n",
    "epochs = range(len(acc))\n",
    "\n",
    "plt.plot(epochs, acc, label='Training acc')\n",
    "plt.plot(epochs, val_acc, label='Validation acc')\n",
    "plt.title('Training and validation accuracy')\n",
    "plt.legend()\n",
    "plt.xlabel('Epochs')\n",
    "plt.ylabel('Accuracy')\n",
    "plt.xlim(0,)\n",
    "plt.savefig('test7.png', bbox_inches='tight', dpi=1200)\n",
    "\n",
    "plt.figure()\n",
    "plt.plot(epochs, loss, label='Training loss')\n",
    "plt.plot(epochs, val_loss, label='Validation loss')\n",
    "plt.title('Training and validation loss')\n",
    "plt.legend()\n",
    "plt.xlabel('Epochs')\n",
    "plt.ylabel('Loss')\n",
    "plt.xlim(0,)\n",
    "plt.savefig('test8.png', bbox_inches='tight', dpi=1200)"
   ]
  },
  {
   "cell_type": "code",
   "execution_count": null,
   "metadata": {},
   "outputs": [
    {
     "ename": "NameError",
     "evalue": "name 'np' is not defined",
     "output_type": "error",
     "traceback": [
      "\u001b[1;31m---------------------------------------------------------------------------\u001b[0m",
      "\u001b[1;31mNameError\u001b[0m                                 Traceback (most recent call last)",
      "Cell \u001b[1;32mIn[3], line 10\u001b[0m\n\u001b[0;32m      8\u001b[0m pHeight \u001b[38;5;241m=\u001b[39m pWidth \u001b[38;5;241m/\u001b[39m \u001b[38;5;241m1.618\u001b[39m\n\u001b[0;32m      9\u001b[0m fig, ax \u001b[38;5;241m=\u001b[39m plt\u001b[38;5;241m.\u001b[39msubplots(\u001b[38;5;241m1\u001b[39m, \u001b[38;5;241m1\u001b[39m, figsize\u001b[38;5;241m=\u001b[39m(pWidth, pHeight), constrained_layout\u001b[38;5;241m=\u001b[39m\u001b[38;5;28;01mTrue\u001b[39;00m)\n\u001b[1;32m---> 10\u001b[0m lns1 \u001b[38;5;241m=\u001b[39m ax\u001b[38;5;241m.\u001b[39mplot(\u001b[43mnp\u001b[49m\u001b[38;5;241m.\u001b[39marray(epochs)\u001b[38;5;241m+\u001b[39m\u001b[38;5;241m1\u001b[39m, acc, color\u001b[38;5;241m=\u001b[39m\u001b[38;5;124m'\u001b[39m\u001b[38;5;124mred\u001b[39m\u001b[38;5;124m'\u001b[39m, linestyle\u001b[38;5;241m=\u001b[39m\u001b[38;5;124m'\u001b[39m\u001b[38;5;124mdashed\u001b[39m\u001b[38;5;124m'\u001b[39m, label\u001b[38;5;241m=\u001b[39m\u001b[38;5;124m'\u001b[39m\u001b[38;5;124mTraining accuracy\u001b[39m\u001b[38;5;124m'\u001b[39m)\n\u001b[0;32m     11\u001b[0m lns2 \u001b[38;5;241m=\u001b[39m ax\u001b[38;5;241m.\u001b[39mplot(np\u001b[38;5;241m.\u001b[39marray(epochs)\u001b[38;5;241m+\u001b[39m\u001b[38;5;241m1\u001b[39m, val_acc, color\u001b[38;5;241m=\u001b[39m\u001b[38;5;124m'\u001b[39m\u001b[38;5;124mblue\u001b[39m\u001b[38;5;124m'\u001b[39m, linestyle\u001b[38;5;241m=\u001b[39m\u001b[38;5;124m'\u001b[39m\u001b[38;5;124mdotted\u001b[39m\u001b[38;5;124m'\u001b[39m, linewidth\u001b[38;5;241m=\u001b[39m\u001b[38;5;241m2\u001b[39m, label\u001b[38;5;241m=\u001b[39m\u001b[38;5;124m'\u001b[39m\u001b[38;5;124mValidation accuracy\u001b[39m\u001b[38;5;124m'\u001b[39m)\n\u001b[0;32m     12\u001b[0m lns \u001b[38;5;241m=\u001b[39m lns1\u001b[38;5;241m+\u001b[39mlns2\n",
      "\u001b[1;31mNameError\u001b[0m: name 'np' is not defined"
     ]
    }
   ],
   "source": [
    "lsize = 9\n",
    "plt.rc('font', family='serif')\n",
    "plt.rc('xtick', labelsize=lsize)\n",
    "plt.rc('ytick', labelsize=lsize)\n",
    "plt.rc('axes', labelsize=lsize)\n",
    "plt.rc('legend', fontsize=lsize)\n",
    "pWidth = 6.0\n",
    "pHeight = pWidth / 1.618\n",
    "fig, ax = plt.subplots(1, 1, figsize=(pWidth, pHeight), constrained_layout=True)\n",
    "lns1 = ax.plot(np.array(epochs)+1, acc, color='red', linestyle='dashed', label='Training accuracy')\n",
    "lns2 = ax.plot(np.array(epochs)+1, val_acc, color='blue', linestyle='dotted', linewidth=2, label='Validation accuracy')\n",
    "lns = lns1+lns2\n",
    "labs = [l.get_label() for l in lns]\n",
    "ax.legend(lns, labs, loc=0)\n",
    "ax.set_title ('Training and validation accuracy')\n",
    "ax.set_ylabel ('Accuracy')\n",
    "ax.set_xlabel ('Epochs')\n",
    "xticks = [1,2.5,5,7.5,10,12.5,15,17.5,20]\n",
    "ax.set_xticks(xticks)\n",
    "ax.set_xlim(1,20)\n",
    "ax.grid()\n",
    "plt.savefig('accuracy.pdf', dpi=300)\n",
    "plt.show()"
   ]
  },
  {
   "cell_type": "code",
   "execution_count": 18,
   "metadata": {},
   "outputs": [
    {
     "data": {
      "image/png": "[encoded data removed]",
      "text/plain": [
       "<Figure size 600x370.828 with 1 Axes>"
      ]
     },
     "metadata": {},
     "output_type": "display_data"
    }
   ],
   "source": [
    "lsize = 9\n",
    "plt.rc('font', family='serif')\n",
    "plt.rc('xtick', labelsize=lsize)\n",
    "plt.rc('ytick', labelsize=lsize)\n",
    "plt.rc('axes', labelsize=lsize)\n",
    "plt.rc('legend', fontsize=lsize)\n",
    "pWidth = 6.0\n",
    "pHeight = pWidth / 1.618\n",
    "fig, ax = plt.subplots(1, 1, figsize=(pWidth, pHeight), constrained_layout=True)\n",
    "ln1 = ax.plot(np.array(epochs)+1, loss, color='red', linestyle='dashed', label='Training loss')\n",
    "ln2 = ax.plot(np.array(epochs)+1, val_loss, color='blue', linestyle='dotted', linewidth=2, label='Validation loss')\n",
    "ln = ln1+ln2\n",
    "labs = [l.get_label() for l in ln]\n",
    "ax.legend(ln, labs, loc=0)\n",
    "ax.set_title ('Training and validation loss')\n",
    "ax.set_ylabel ('Loss')\n",
    "ax.set_xlabel ('Epochs')\n",
    "xticks = [1,2.5,5,7.5,10,12.5,15,17.5,20]\n",
    "ax.set_xticks(xticks)\n",
    "ax.set_xlim(1,20)\n",
    "ax.grid()\n",
    "plt.savefig('loss.pdf', dpi=300)\n",
    "plt.show()"
   ]
  },
  {
   "cell_type": "code",
   "execution_count": 19,
   "metadata": {},
   "outputs": [
    {
     "name": "stdout",
     "output_type": "stream",
     "text": [
      "44/44 [==============================] - 4s 81ms/step - loss: 0.0788 - accuracy: 0.9679\n",
      "Test Loss: 0.0787622407078743\n",
      "Test Accuracy: 0.9678571224212646\n"
     ]
    }
   ],
   "source": [
    "loss, accuracy = model.evaluate(x_test, y_test)\n",
    "print (\"Test Loss:\", loss)\n",
    "print (\"Test Accuracy:\", accuracy)"
   ]
  },
  {
   "cell_type": "code",
   "execution_count": 20,
   "metadata": {},
   "outputs": [
    {
     "name": "stdout",
     "output_type": "stream",
     "text": [
      "44/44 [==============================] - 4s 79ms/step\n"
     ]
    },
    {
     "data": {
      "image/png": "[encoded data removed]",
      "text/plain": [
       "<Figure size 600x370.828 with 2 Axes>"
      ]
     },
     "metadata": {},
     "output_type": "display_data"
    }
   ],
   "source": [
    "import seaborn\n",
    "from sklearn.metrics import confusion_matrix\n",
    "lsize = 9\n",
    "plt.rc('font', family='serif')\n",
    "plt.rc('xtick', labelsize=lsize)\n",
    "plt.rc('ytick', labelsize=lsize)\n",
    "plt.rc('axes', labelsize=lsize)\n",
    "plt.rc('legend', fontsize=lsize)\n",
    "pWidth = 6.0\n",
    "pHeight = pWidth / 1.618\n",
    "fig, ax = plt.subplots(1, 1, figsize=(pWidth, pHeight), constrained_layout=True)\n",
    "Y_pred = model.predict(x_test)\n",
    "Y_pred1 = np.argmax(Y_pred, axis=1)\n",
    "Y_test1 = np.argmax(y_test, axis=1)\n",
    "cmat =  confusion_matrix(Y_test1,Y_pred1)\n",
    "seaborn.heatmap(cmat, annot=True,fmt='g')\n",
    "plt.title('Confusion matrix')\n",
    "plt.ylabel('Actual')\n",
    "plt.xlabel('Predicted')\n",
    "plt.savefig('confusion.pdf', dpi=300)"
   ]
  },
  {
   "cell_type": "code",
   "execution_count": null,
   "metadata": {},
   "outputs": [],
   "source": []
  }
 ],
 "metadata": {
  "kernelspec": {
   "display_name": "Python 3 (ipykernel)",
   "language": "python",
   "name": "python3"
  },
  "language_info": {
   "codemirror_mode": {
    "name": "ipython",
    "version": 3
   },
   "file_extension": ".py",
   "mimetype": "text/x-python",
   "name": "python",
   "nbconvert_exporter": "python",
   "pygments_lexer": "ipython3",
   "version": "3.10.10"
  }
 },
 "nbformat": 4,
 "nbformat_minor": 4
}
